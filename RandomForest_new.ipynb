{
 "cells": [
  {
   "cell_type": "code",
   "execution_count": 3,
   "id": "b71e70b8",
   "metadata": {},
   "outputs": [],
   "source": [
    "import numpy as np\n",
    "import pandas as pd\n",
    "import matplotlib.pyplot as plt\n",
    "import datetime\n",
    "import os\n",
    "import re\n",
    "import seaborn as sns\n",
    "from collections import Counter\n",
    "from datetime import datetime\n",
    "from sklearn.ensemble import RandomForestClassifier\n",
    "from sklearn.model_selection import train_test_split, StratifiedKFold, RandomizedSearchCV\n",
    "%matplotlib inline"
   ]
  },
  {
   "cell_type": "markdown",
   "id": "3d7843a6",
   "metadata": {},
   "source": [
    "RANDOM FOREST"
   ]
  },
  {
   "cell_type": "code",
   "execution_count": 4,
   "id": "5c3cfeb4",
   "metadata": {},
   "outputs": [
    {
     "data": {
      "text/plain": [
       "array([[ 0.00546968, -2.63575159, -0.08626786, ..., -0.49449405,\n",
       "        -0.73591438,  3.30735414],\n",
       "       [ 0.00546968, -2.63538219, -0.08626786, ..., -0.49449405,\n",
       "        -0.73591438,  3.30735414],\n",
       "       [ 0.00546968, -2.59997259, -0.08626786, ..., -0.49449405,\n",
       "        -0.73591438,  3.30735414],\n",
       "       ...,\n",
       "       [ 0.99466784,  1.87366874, -0.08626786, ...,  2.02226904,\n",
       "        -0.73591438, -0.30235649],\n",
       "       [ 0.99466784,  1.88971124, -0.08626786, ...,  2.02226904,\n",
       "        -0.73591438, -0.30235649],\n",
       "       [ 0.99466784,  1.90575374, -0.08626786, ...,  2.02226904,\n",
       "        -0.73591438, -0.30235649]])"
      ]
     },
     "execution_count": 4,
     "metadata": {},
     "output_type": "execute_result"
    }
   ],
   "source": [
    "X = np.load('X.npy')\n",
    "X"
   ]
  },
  {
   "cell_type": "code",
   "execution_count": 5,
   "id": "56729343",
   "metadata": {},
   "outputs": [
    {
     "data": {
      "text/plain": [
       "array([[0],\n",
       "       [0],\n",
       "       [0],\n",
       "       ...,\n",
       "       [0],\n",
       "       [0],\n",
       "       [0]])"
      ]
     },
     "execution_count": 5,
     "metadata": {},
     "output_type": "execute_result"
    }
   ],
   "source": [
    "y = np.load('y.npy')\n",
    "y"
   ]
  },
  {
   "cell_type": "code",
   "execution_count": 57,
   "id": "9f90e301",
   "metadata": {},
   "outputs": [
    {
     "data": {
      "text/plain": [
       "(1709857,)"
      ]
     },
     "execution_count": 57,
     "metadata": {},
     "output_type": "execute_result"
    }
   ],
   "source": [
    "y = y.reshape(-1)\n",
    "y.shape"
   ]
  },
  {
   "cell_type": "code",
   "execution_count": null,
   "id": "ffac0945",
   "metadata": {},
   "outputs": [],
   "source": []
  },
  {
   "cell_type": "code",
   "execution_count": 7,
   "id": "7a3cb228",
   "metadata": {
    "scrolled": true
   },
   "outputs": [
    {
     "data": {
      "text/plain": [
       "(0,\n",
       " 56,\n",
       " array([ 0,  1,  2,  3,  4,  5,  6,  7,  8,  9, 10, 11, 12, 13, 14, 15, 16,\n",
       "        17, 18, 19, 20, 21, 22, 23, 24, 25, 26, 27, 28, 29, 30, 31, 32, 33,\n",
       "        34, 35, 36, 37, 38, 39, 40, 41, 42, 43, 44, 45, 46, 47, 48, 49, 50,\n",
       "        51, 52, 53, 54, 55, 56]))"
      ]
     },
     "execution_count": 7,
     "metadata": {},
     "output_type": "execute_result"
    }
   ],
   "source": [
    "np.min(y), np.max(y), np.unique(y)"
   ]
  },
  {
   "cell_type": "code",
   "execution_count": 8,
   "id": "be38f27c",
   "metadata": {},
   "outputs": [],
   "source": [
    "X_train, X_test, y_train, y_test = train_test_split(X, y, test_size=0.3, random_state=42)"
   ]
  },
  {
   "cell_type": "code",
   "execution_count": 9,
   "id": "9fbfb59c",
   "metadata": {},
   "outputs": [],
   "source": [
    "skf = StratifiedKFold(n_splits=2)"
   ]
  },
  {
   "cell_type": "code",
   "execution_count": 10,
   "id": "40589188",
   "metadata": {},
   "outputs": [],
   "source": [
    "rfc = RandomForestClassifier()"
   ]
  },
  {
   "cell_type": "code",
   "execution_count": 11,
   "id": "77fbee56",
   "metadata": {},
   "outputs": [],
   "source": [
    "param_grid = { \n",
    "    'n_estimators': [100],\n",
    "    'max_features': ['auto'],\n",
    "    'max_depth' : [None],\n",
    "    'criterion' :['gini']\n",
    "}\n",
    "random_search = RandomizedSearchCV(rfc, param_grid, cv=skf, verbose=2, random_state=42, n_jobs = -1)"
   ]
  },
  {
   "cell_type": "code",
   "execution_count": 12,
   "id": "8b75f477",
   "metadata": {
    "scrolled": true
   },
   "outputs": [
    {
     "name": "stdout",
     "output_type": "stream",
     "text": [
      "Fitting 2 folds for each of 1 candidates, totalling 2 fits\n"
     ]
    },
    {
     "name": "stderr",
     "output_type": "stream",
     "text": [
      "/usr/local/lib/python3.9/site-packages/sklearn/model_selection/_search.py:292: UserWarning: The total space of parameters 1 is smaller than n_iter=10. Running 1 iterations. For exhaustive searches, use GridSearchCV.\n",
      "  warnings.warn(\n"
     ]
    },
    {
     "name": "stdout",
     "output_type": "stream",
     "text": [
      "{'mean_fit_time': array([85.52497005]), 'std_fit_time': array([0.69346094]), 'mean_score_time': array([29.34886956]), 'std_score_time': array([0.04427743]), 'param_n_estimators': masked_array(data=[100],\n",
      "             mask=[False],\n",
      "       fill_value='?',\n",
      "            dtype=object), 'param_max_features': masked_array(data=['auto'],\n",
      "             mask=[False],\n",
      "       fill_value='?',\n",
      "            dtype=object), 'param_max_depth': masked_array(data=[None],\n",
      "             mask=[False],\n",
      "       fill_value='?',\n",
      "            dtype=object), 'param_criterion': masked_array(data=['gini'],\n",
      "             mask=[False],\n",
      "       fill_value='?',\n",
      "            dtype=object), 'params': [{'n_estimators': 100, 'max_features': 'auto', 'max_depth': None, 'criterion': 'gini'}], 'split0_test_score': array([0.92673072]), 'split1_test_score': array([0.92549073]), 'mean_test_score': array([0.92611072]), 'std_test_score': array([0.00062]), 'rank_test_score': array([1], dtype=int32)}\n"
     ]
    }
   ],
   "source": [
    "random_search.fit(X_train, y_train)\n",
    "print(random_search.cv_results_)"
   ]
  },
  {
   "cell_type": "code",
   "execution_count": 13,
   "id": "dae5eea5",
   "metadata": {},
   "outputs": [
    {
     "data": {
      "text/plain": [
       "0.9261107239457991"
      ]
     },
     "execution_count": 13,
     "metadata": {},
     "output_type": "execute_result"
    }
   ],
   "source": [
    "random_search.best_score_"
   ]
  },
  {
   "cell_type": "code",
   "execution_count": 14,
   "id": "2f0c6f63",
   "metadata": {},
   "outputs": [],
   "source": [
    "classifier = random_search.best_estimator_"
   ]
  },
  {
   "cell_type": "code",
   "execution_count": 15,
   "id": "8505c9ae",
   "metadata": {},
   "outputs": [
    {
     "data": {
      "text/plain": [
       "0.9999724287512981"
      ]
     },
     "execution_count": 15,
     "metadata": {},
     "output_type": "execute_result"
    }
   ],
   "source": [
    "classifier.score(X_train, y_train)"
   ]
  },
  {
   "cell_type": "code",
   "execution_count": 16,
   "id": "bc51ba5b",
   "metadata": {},
   "outputs": [
    {
     "data": {
      "text/plain": [
       "0.957269406072232"
      ]
     },
     "execution_count": 16,
     "metadata": {},
     "output_type": "execute_result"
    }
   ],
   "source": [
    "classifier.score(X_test, y_test)"
   ]
  },
  {
   "cell_type": "code",
   "execution_count": 17,
   "id": "56579cfd",
   "metadata": {},
   "outputs": [
    {
     "ename": "AttributeError",
     "evalue": "'RandomizedSearchCV' object has no attribute 'scores_'",
     "output_type": "error",
     "traceback": [
      "\u001b[0;31m---------------------------------------------------------------------------\u001b[0m",
      "\u001b[0;31mAttributeError\u001b[0m                            Traceback (most recent call last)",
      "Input \u001b[0;32mIn [17]\u001b[0m, in \u001b[0;36m<cell line: 1>\u001b[0;34m()\u001b[0m\n\u001b[0;32m----> 1\u001b[0m \u001b[43mrandom_search\u001b[49m\u001b[38;5;241;43m.\u001b[39;49m\u001b[43mscores_\u001b[49m\n",
      "\u001b[0;31mAttributeError\u001b[0m: 'RandomizedSearchCV' object has no attribute 'scores_'"
     ]
    },
    {
     "name": "stdout",
     "output_type": "stream",
     "text": [
      "[CV] END criterion=gini, max_depth=None, max_features=auto, n_estimators=100; total time= 1.9min\n",
      "[CV] END criterion=gini, max_depth=None, max_features=auto, n_estimators=100; total time= 1.9min\n"
     ]
    }
   ],
   "source": [
    "random_search.scores_"
   ]
  },
  {
   "cell_type": "code",
   "execution_count": 29,
   "id": "b68b17ca",
   "metadata": {},
   "outputs": [
    {
     "data": {
      "image/png": "[encoded data removed]",
      "text/plain": [
       "<Figure size 720x576 with 1 Axes>"
      ]
     },
     "metadata": {
      "needs_background": "light"
     },
     "output_type": "display_data"
    },
    {
     "data": {
      "text/plain": [
       "<Figure size 360x360 with 0 Axes>"
      ]
     },
     "metadata": {},
     "output_type": "display_data"
    }
   ],
   "source": [
    "#modelname.feature_importance_\n",
    "features = classifier.feature_importances_\n",
    "#plot\n",
    "fig, ax = plt.subplots()\n",
    "width = 0.4 # the width of the bars\n",
    "ind = np.arange(len(features)) # the x locations for the groups\n",
    "ax.barh(ind, features, width, color=\"green\")\n",
    "ax.set_yticks(ind+width/10)\n",
    "ax.set_yticklabels(range(len(features)), minor=False)\n",
    "plt.title(\"Feature importance in RandomForest Classifier\")\n",
    "plt.xlabel(\"Relative importance\")\n",
    "plt.ylabel(\"feature\")\n",
    "plt.figure(figsize=(5,5))\n",
    "fig.set_size_inches(10, 8, forward=True)"
   ]
  },
  {
   "cell_type": "code",
   "execution_count": 49,
   "id": "1feb4777",
   "metadata": {},
   "outputs": [],
   "source": [
    "X_clean = X.copy()"
   ]
  },
  {
   "cell_type": "code",
   "execution_count": 54,
   "id": "9cebbc3f",
   "metadata": {},
   "outputs": [
    {
     "data": {
      "text/plain": [
       "(1709857, 45)"
      ]
     },
     "execution_count": 54,
     "metadata": {},
     "output_type": "execute_result"
    }
   ],
   "source": [
    "X_clean.shape"
   ]
  },
  {
   "cell_type": "code",
   "execution_count": 51,
   "id": "e052303f",
   "metadata": {},
   "outputs": [
    {
     "data": {
      "text/plain": [
       "(45,)"
      ]
     },
     "execution_count": 51,
     "metadata": {},
     "output_type": "execute_result"
    }
   ],
   "source": [
    "features.shape"
   ]
  },
  {
   "cell_type": "code",
   "execution_count": 34,
   "id": "01921e72",
   "metadata": {},
   "outputs": [],
   "source": [
    "X_mock = X_clean.copy()"
   ]
  },
  {
   "cell_type": "code",
   "execution_count": 35,
   "id": "8c7c8f17",
   "metadata": {},
   "outputs": [
    {
     "data": {
      "text/plain": [
       "(1709857, 44)"
      ]
     },
     "execution_count": 35,
     "metadata": {},
     "output_type": "execute_result"
    }
   ],
   "source": [
    "X_mock = np.delete(X_clean, 5, 1)\n",
    "X_mock.shape"
   ]
  },
  {
   "cell_type": "code",
   "execution_count": 38,
   "id": "ce8eb532",
   "metadata": {},
   "outputs": [
    {
     "data": {
      "text/plain": [
       "(0.08455971370712748, 0.25569036308079385, 0.0008847651317850527)"
      ]
     },
     "execution_count": 38,
     "metadata": {},
     "output_type": "execute_result"
    }
   ],
   "source": [
    "features[0], features[1], features[2]"
   ]
  },
  {
   "cell_type": "code",
   "execution_count": 40,
   "id": "920ef6a5",
   "metadata": {},
   "outputs": [
    {
     "data": {
      "text/plain": [
       "0.029621723015000694"
      ]
     },
     "execution_count": 40,
     "metadata": {},
     "output_type": "execute_result"
    }
   ],
   "source": [
    "features[20]"
   ]
  },
  {
   "cell_type": "code",
   "execution_count": 39,
   "id": "b0193aee",
   "metadata": {},
   "outputs": [
    {
     "data": {
      "text/plain": [
       "45"
      ]
     },
     "execution_count": 39,
     "metadata": {},
     "output_type": "execute_result"
    }
   ],
   "source": [
    "len(features)"
   ]
  },
  {
   "cell_type": "code",
   "execution_count": 53,
   "id": "4dc573c5",
   "metadata": {},
   "outputs": [
    {
     "data": {
      "text/plain": [
       "[2,\n",
       " 3,\n",
       " 4,\n",
       " 5,\n",
       " 6,\n",
       " 7,\n",
       " 8,\n",
       " 9,\n",
       " 11,\n",
       " 12,\n",
       " 13,\n",
       " 14,\n",
       " 15,\n",
       " 16,\n",
       " 17,\n",
       " 18,\n",
       " 19,\n",
       " 21,\n",
       " 22,\n",
       " 23,\n",
       " 24,\n",
       " 25,\n",
       " 26,\n",
       " 27,\n",
       " 28,\n",
       " 29,\n",
       " 30,\n",
       " 31,\n",
       " 32,\n",
       " 33,\n",
       " 34,\n",
       " 35,\n",
       " 41,\n",
       " 42,\n",
       " 43,\n",
       " 44]"
      ]
     },
     "execution_count": 53,
     "metadata": {},
     "output_type": "execute_result"
    }
   ],
   "source": [
    "deletable = []\n",
    "for i in range(0, len(features)):\n",
    "    if features[i] < 0.025:\n",
    "        deletable.append(i)\n",
    "#         X_clean = np.delete(X_clean, i, 1)\n",
    "deletable"
   ]
  },
  {
   "cell_type": "code",
   "execution_count": 55,
   "id": "2ba95c16",
   "metadata": {},
   "outputs": [],
   "source": [
    "X_clean = np.delete(X_clean, deletable, 1)"
   ]
  },
  {
   "cell_type": "code",
   "execution_count": 56,
   "id": "aa4520d9",
   "metadata": {},
   "outputs": [
    {
     "data": {
      "text/plain": [
       "(1709857, 9)"
      ]
     },
     "execution_count": 56,
     "metadata": {},
     "output_type": "execute_result"
    }
   ],
   "source": [
    "X_clean.shape"
   ]
  },
  {
   "cell_type": "code",
   "execution_count": 58,
   "id": "a8d65375",
   "metadata": {},
   "outputs": [],
   "source": [
    "X_clean_train, X_clean_test, y_clean_train, y_clean_test = train_test_split(X_clean, y, test_size=0.3, random_state=42)"
   ]
  },
  {
   "cell_type": "code",
   "execution_count": 59,
   "id": "a6ffc13d",
   "metadata": {},
   "outputs": [],
   "source": [
    "skf_clean = StratifiedKFold(n_splits=2)"
   ]
  },
  {
   "cell_type": "code",
   "execution_count": 60,
   "id": "3442d513",
   "metadata": {},
   "outputs": [],
   "source": [
    "rfc_clean = RandomForestClassifier()"
   ]
  },
  {
   "cell_type": "code",
   "execution_count": 62,
   "id": "5ad04359",
   "metadata": {},
   "outputs": [],
   "source": [
    "random_search_clean = RandomizedSearchCV(rfc_clean, param_grid, cv=skf_clean, verbose=2, random_state=42, n_jobs = -1)"
   ]
  },
  {
   "cell_type": "code",
   "execution_count": 63,
   "id": "16603c66",
   "metadata": {},
   "outputs": [
    {
     "name": "stdout",
     "output_type": "stream",
     "text": [
      "Fitting 2 folds for each of 1 candidates, totalling 2 fits\n"
     ]
    },
    {
     "name": "stderr",
     "output_type": "stream",
     "text": [
      "/usr/local/lib/python3.9/site-packages/sklearn/model_selection/_search.py:292: UserWarning: The total space of parameters 1 is smaller than n_iter=10. Running 1 iterations. For exhaustive searches, use GridSearchCV.\n",
      "  warnings.warn(\n"
     ]
    },
    {
     "ename": "AttributeError",
     "evalue": "'RandomizedSearchCV' object has no attribute 'cv_results_'",
     "output_type": "error",
     "traceback": [
      "\u001b[0;31m---------------------------------------------------------------------------\u001b[0m",
      "\u001b[0;31mAttributeError\u001b[0m                            Traceback (most recent call last)",
      "Input \u001b[0;32mIn [63]\u001b[0m, in \u001b[0;36m<cell line: 2>\u001b[0;34m()\u001b[0m\n\u001b[1;32m      1\u001b[0m random_search_clean\u001b[38;5;241m.\u001b[39mfit(X_clean_train, y_clean_train)\n\u001b[0;32m----> 2\u001b[0m \u001b[38;5;28mprint\u001b[39m(\u001b[43mrandom_search\u001b[49m\u001b[38;5;241;43m.\u001b[39;49m\u001b[43mcv_results_\u001b[49m)\n",
      "\u001b[0;31mAttributeError\u001b[0m: 'RandomizedSearchCV' object has no attribute 'cv_results_'"
     ]
    }
   ],
   "source": [
    "random_search_clean.fit(X_clean_train, y_clean_train)\n",
    "print(random_search.cv_results_)"
   ]
  },
  {
   "cell_type": "code",
   "execution_count": 64,
   "id": "20810c7f",
   "metadata": {},
   "outputs": [
    {
     "data": {
      "text/plain": [
       "0.9709958817693625"
      ]
     },
     "execution_count": 64,
     "metadata": {},
     "output_type": "execute_result"
    }
   ],
   "source": [
    "random_search_clean.best_score_"
   ]
  },
  {
   "cell_type": "code",
   "execution_count": 65,
   "id": "989f52e2",
   "metadata": {},
   "outputs": [],
   "source": [
    "classifier_clean = random_search_clean.best_estimator_"
   ]
  },
  {
   "cell_type": "code",
   "execution_count": 66,
   "id": "1843a89e",
   "metadata": {},
   "outputs": [
    {
     "data": {
      "text/plain": [
       "0.9990308288335106"
      ]
     },
     "execution_count": 66,
     "metadata": {},
     "output_type": "execute_result"
    }
   ],
   "source": [
    "classifier_clean.score(X_clean_train, y_clean_train)"
   ]
  },
  {
   "cell_type": "code",
   "execution_count": 67,
   "id": "cc6e62da",
   "metadata": {},
   "outputs": [
    {
     "data": {
      "text/plain": [
       "0.982327987866453"
      ]
     },
     "execution_count": 67,
     "metadata": {},
     "output_type": "execute_result"
    }
   ],
   "source": [
    "classifier_clean.score(X_clean_test, y_clean_test)"
   ]
  },
  {
   "cell_type": "code",
   "execution_count": 75,
   "id": "a62a500c",
   "metadata": {},
   "outputs": [
    {
     "data": {
      "image/png": "[encoded data removed]",
      "text/plain": [
       "<Figure size 576x432 with 1 Axes>"
      ]
     },
     "metadata": {
      "needs_background": "light"
     },
     "output_type": "display_data"
    },
    {
     "data": {
      "text/plain": [
       "<Figure size 360x360 with 0 Axes>"
      ]
     },
     "metadata": {},
     "output_type": "display_data"
    }
   ],
   "source": [
    "#modelname.feature_importance_\n",
    "features_clean = classifier_clean.feature_importances_\n",
    "ylabels = ['Weekday', 'Seconds', 'M008', 'M018', 'T001', 'T002', 'T003', 'T004', 'T005']\n",
    "#plot\n",
    "fig, ax = plt.subplots()\n",
    "width = 0.4 # the width of the bars\n",
    "ind = np.arange(len(features_clean)) # the x locations for the groups\n",
    "ax.barh(ind, features_clean, width, color=\"green\")\n",
    "ax.set_yticks(ind+width/10)\n",
    "ax.set_yticklabels(ylabels, minor=False, fontsize=16)\n",
    "plt.title(\"Feature importance in RandomForest Classifier\", fontsize=16)\n",
    "plt.xlabel(\"Relative importance\", fontsize=16)\n",
    "plt.ylabel(\"Feature\", fontsize=16)\n",
    "plt.figure(figsize=(5,5))\n",
    "fig.set_size_inches(8, 6, forward=True)"
   ]
  },
  {
   "cell_type": "code",
   "execution_count": null,
   "id": "2a9d4565",
   "metadata": {},
   "outputs": [],
   "source": []
  }
 ],
 "metadata": {
  "kernelspec": {
   "display_name": "Python 3 (ipykernel)",
   "language": "python",
   "name": "python3"
  },
  "language_info": {
   "codemirror_mode": {
    "name": "ipython",
    "version": 3
   },
   "file_extension": ".py",
   "mimetype": "text/x-python",
   "name": "python",
   "nbconvert_exporter": "python",
   "pygments_lexer": "ipython3",
   "version": "3.9.8"
  }
 },
 "nbformat": 4,
 "nbformat_minor": 5
}
