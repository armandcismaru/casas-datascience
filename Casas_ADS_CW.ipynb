{
 "cells": [
  {
   "cell_type": "markdown",
   "id": "c81386e6",
   "metadata": {},
   "source": [
    "# Casas smarthome ADS Coursework"
   ]
  },
  {
   "cell_type": "code",
   "execution_count": 1,
   "id": "62d3bdc2",
   "metadata": {},
   "outputs": [],
   "source": [
    "import numpy as np\n",
    "import pandas as pd\n",
    "import matplotlib.pyplot as plt\n",
    "%matplotlib inline"
   ]
  },
  {
   "cell_type": "code",
   "execution_count": 2,
   "id": "1958c552",
   "metadata": {},
   "outputs": [],
   "source": [
    "import datetime\n",
    "import os\n",
    "import re\n",
    "import seaborn as sns\n",
    "from collections import Counter\n",
    "from datetime import datetime\n",
    "\n",
    "from keras.preprocessing import sequence"
   ]
  },
  {
   "cell_type": "code",
   "execution_count": 3,
   "id": "e93bcbf1",
   "metadata": {},
   "outputs": [],
   "source": [
    "sensor_codes = ['M001', 'M002', 'M003', 'M004', 'M005', 'M006', 'M007', \n",
    "                'M008', 'M009', 'M010', 'M011', 'M012', 'M013', 'M014',\n",
    "                'M015', 'M016', 'M017', 'M018', 'M019', 'M020', 'M021', \n",
    "                'M022', 'M023', 'M024', 'M025', 'M026', 'M027', 'M028',\n",
    "                'M029', 'M030', 'D001', 'D002', 'D003', 'D004', 'T001',\n",
    "                'T002', 'T003', 'T004', 'T005']"
   ]
  },
  {
   "cell_type": "markdown",
   "id": "28ad983e",
   "metadata": {},
   "source": [
    "# Data cleaning"
   ]
  },
  {
   "cell_type": "code",
   "execution_count": 4,
   "id": "52947b58",
   "metadata": {},
   "outputs": [],
   "source": [
    "def load_dataset(filename):\n",
    "    timestamps = []\n",
    "    sensors = []\n",
    "    values = []\n",
    "    activities = []\n",
    "    current_activity = ''  # empty\n",
    "\n",
    "    with open(filename, 'rb') as features:\n",
    "        database = features.readlines()\n",
    "        \n",
    "        for i, line in enumerate(database):  # each line\n",
    "            f_info = line.decode().split()  # find fields\n",
    "            try:\n",
    "                if 'M' == f_info[2][0] or 'D' == f_info[2][0] or 'T' == f_info[2][0]:\n",
    "                    if str(np.array(f_info[2])) in sensor_codes:\n",
    "                        sensors.append(str(np.array(f_info[2])))\n",
    "                    else:\n",
    "                        continue\n",
    "                       \n",
    "                    if 'OFF' in f_info[3]:\n",
    "                        values.append('OFF')\n",
    "                    elif 'ON' in f_info[3]:\n",
    "                        values.append('ON')\n",
    "                    else:\n",
    "                        try:\n",
    "                            values.append(float(str(np.array(f_info[3]))))\n",
    "                        except ValueError:\n",
    "                            del sensors[-1]\n",
    "                            continue\n",
    "                            \n",
    "                    # choose only M D T sensors, avoiding unexpected errors\n",
    "                    if not ('.' in str(np.array(f_info[0])) + str(np.array(f_info[1]))):\n",
    "                        f_info[1] = f_info[1] + '.000000'\n",
    "                        \n",
    "                    try:\n",
    "                        timestamps.append(datetime.strptime(str(np.array(f_info[0])) + str(np.array(f_info[1])),\n",
    "                                                        \"%Y-%m-%d%H:%M:%S.%f\"))\n",
    "                    except ValueError:\n",
    "                        del sensors[-1]\n",
    "                        del values[-1]\n",
    "                        continue\n",
    "                        \n",
    "                    if len(f_info) == 4:  # if activity does not exist\n",
    "                        activities.append(current_activity)\n",
    "                    else:  # if activity exists\n",
    "                        des = str(' '.join(np.array(f_info[4:])))\n",
    "                        if 'begin' in des:\n",
    "                            current_activity = re.sub('begin', '', des)\n",
    "                            if current_activity[-1] == ' ':  # if white space at the end\n",
    "                                current_activity = current_activity[:-1]  # delete white space\n",
    "                            activities.append(current_activity)\n",
    "                        if 'end' in des:\n",
    "                            activities.append(current_activity)\n",
    "                            current_activity = ''\n",
    "            except IndexError:\n",
    "                print(i, line)\n",
    "                \n",
    "    features.close()\n",
    "    \n",
    "    return pd.DataFrame(np.transpose(np.array([timestamps, sensors, values, activities])), \n",
    "                        columns = ['Timestamps', 'Sensors', 'Values', 'Activities'])\n",
    "    "
   ]
  },
  {
   "cell_type": "code",
   "execution_count": 5,
   "id": "c96df1b8",
   "metadata": {},
   "outputs": [],
   "source": [
    "aruba_dataset = load_dataset(\"./datasets/aruba/data\")"
   ]
  },
  {
   "cell_type": "code",
   "execution_count": 6,
   "id": "97f1cd12",
   "metadata": {},
   "outputs": [],
   "source": [
    "copy_aruba = aruba_dataset.copy();"
   ]
  },
  {
   "cell_type": "code",
   "execution_count": 7,
   "id": "395b7fd7",
   "metadata": {},
   "outputs": [],
   "source": [
    "def add_transition_labels(aruba_set):\n",
    "    new_activity = ''\n",
    "    previous_activity = ''\n",
    "    \n",
    "    for i, entry in enumerate(aruba_set['Activities'][:5000]): \n",
    "        if entry == '':\n",
    "            if new_activity != '':\n",
    "                aruba_set.at[i, 'Activities'] = new_activity\n",
    "            else:\n",
    "                for next_entry in aruba_set['Activities'][i:]:\n",
    "                    if next_entry != '':\n",
    "                        new_activity = 'Transition_' + previous_activity + '_' + next_entry\n",
    "                        aruba_set.at[i, 'Activities'] = new_activity\n",
    "                        break            \n",
    "        else:\n",
    "            previous_activity = entry\n",
    "            new_activity = ''\n",
    "    return aruba_set"
   ]
  },
  {
   "cell_type": "code",
   "execution_count": 8,
   "id": "7d69adc1",
   "metadata": {},
   "outputs": [
    {
     "data": {
      "text/plain": [
       "49                 \n",
       "50                 \n",
       "51                 \n",
       "52    Bed_to_Toilet\n",
       "Name: Activities, dtype: object"
      ]
     },
     "execution_count": 8,
     "metadata": {},
     "output_type": "execute_result"
    }
   ],
   "source": [
    "copy_aruba['Activities'][49:53]"
   ]
  },
  {
   "cell_type": "code",
   "execution_count": 9,
   "id": "bb9ae488",
   "metadata": {},
   "outputs": [],
   "source": [
    "complete_aruba = add_transition_labels(copy_aruba)"
   ]
  },
  {
   "cell_type": "code",
   "execution_count": null,
   "id": "07068611",
   "metadata": {},
   "outputs": [],
   "source": [
    "complete_aruba.head(60)"
   ]
  },
  {
   "cell_type": "markdown",
   "id": "dfc19496",
   "metadata": {},
   "source": [
    "# Pre-processing"
   ]
  },
  {
   "cell_type": "code",
   "execution_count": 24,
   "id": "5fc13b07",
   "metadata": {},
   "outputs": [],
   "source": [
    "def process_time_data(dataset):\n",
    "    weekday = []\n",
    "    \n",
    "    for instance in dataset[\"Timestamps\"][:50]:\n",
    "        #weekday.append(instance.get_weekday())\n",
    "        #print(instance.day_of_week)\n",
    "        \n",
    "        print(instance.hour * 3600 + instance.minute * 60 + instance.second)"
   ]
  },
  {
   "cell_type": "code",
   "execution_count": 25,
   "id": "eff9ee86",
   "metadata": {},
   "outputs": [
    {
     "name": "stdout",
     "output_type": "stream",
     "text": [
      "230\n",
      "237\n",
      "908\n",
      "1819\n",
      "1819\n",
      "2122\n",
      "2425\n",
      "2728\n",
      "3942\n",
      "4548\n",
      "5459\n",
      "6369\n",
      "6976\n",
      "8492\n",
      "8492\n",
      "9153\n",
      "9158\n",
      "9705\n",
      "10615\n",
      "12131\n",
      "13341\n",
      "13345\n",
      "13345\n",
      "13792\n",
      "13797\n",
      "14254\n",
      "14254\n",
      "15272\n",
      "15273\n",
      "15277\n",
      "15279\n",
      "16377\n",
      "16457\n",
      "16459\n",
      "16460\n",
      "16461\n",
      "16984\n",
      "18803\n",
      "19107\n",
      "20017\n",
      "20427\n",
      "20429\n",
      "20432\n",
      "20433\n",
      "20434\n",
      "20440\n",
      "20440\n",
      "20442\n",
      "20443\n",
      "20444\n"
     ]
    }
   ],
   "source": [
    "process_time_data(complete_aruba)"
   ]
  },
  {
   "cell_type": "code",
   "execution_count": null,
   "id": "bd0ebf37",
   "metadata": {},
   "outputs": [],
   "source": [
    "complete_aruba.hist(bins = 50)\n"
   ]
  },
  {
   "cell_type": "code",
   "execution_count": null,
   "id": "385698cc",
   "metadata": {},
   "outputs": [],
   "source": [
    "complete_aruba.describe()"
   ]
  },
  {
   "cell_type": "code",
   "execution_count": null,
   "id": "777f3228",
   "metadata": {},
   "outputs": [],
   "source": [
    "sns.catplot(x = 'Activities', y = 'Timestamps', data = complete_aruba)"
   ]
  }
 ],
 "metadata": {
  "kernelspec": {
   "display_name": "Python 3",
   "language": "python",
   "name": "python3"
  },
  "language_info": {
   "codemirror_mode": {
    "name": "ipython",
    "version": 3
   },
   "file_extension": ".py",
   "mimetype": "text/x-python",
   "name": "python",
   "nbconvert_exporter": "python",
   "pygments_lexer": "ipython3",
   "version": "3.8.11"
  }
 },
 "nbformat": 4,
 "nbformat_minor": 5
}
