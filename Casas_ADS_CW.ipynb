{
 "cells": [
  {
   "cell_type": "markdown",
   "id": "c81386e6",
   "metadata": {},
   "source": [
    "# Casas smarthome ADS Coursework"
   ]
  },
  {
   "cell_type": "code",
   "execution_count": 235,
   "id": "62d3bdc2",
   "metadata": {},
   "outputs": [],
   "source": [
    "import numpy as np\n",
    "import pandas as pd\n",
    "import matplotlib.pyplot as plt\n",
    "%matplotlib inline"
   ]
  },
  {
   "cell_type": "code",
   "execution_count": 236,
   "id": "1958c552",
   "metadata": {},
   "outputs": [],
   "source": [
    "import datetime\n",
    "import os\n",
    "import re\n",
    "import seaborn as sns\n",
    "from collections import Counter\n",
    "from datetime import datetime\n",
    "\n"
   ]
  },
  {
   "cell_type": "code",
   "execution_count": 237,
   "id": "e93bcbf1",
   "metadata": {},
   "outputs": [],
   "source": [
    "sensor_codes = ['M001', 'M002', 'M003', 'M004', 'M005', 'M006', 'M007', \n",
    "                'M008', 'M009', 'M010', 'M011', 'M012', 'M013', 'M014',\n",
    "                'M015', 'M016', 'M017', 'M018', 'M019', 'M020', 'M021', \n",
    "                'M022', 'M023', 'M024', 'M025', 'M026', 'M027', 'M028',\n",
    "                'M029', 'M030', 'D001', 'D002', 'D003', 'D004', 'T001',\n",
    "                'T002', 'T003', 'T004', 'T005']"
   ]
  },
  {
   "cell_type": "markdown",
   "id": "28ad983e",
   "metadata": {},
   "source": [
    "# Data cleaning"
   ]
  },
  {
   "cell_type": "code",
   "execution_count": 238,
   "id": "52947b58",
   "metadata": {},
   "outputs": [],
   "source": [
    "def load_dataset(filename):\n",
    "    timestamps = []\n",
    "    sensors = []\n",
    "    values = []\n",
    "    activities = []\n",
    "    current_activity = ''  # empty\n",
    "\n",
    "    with open(filename, 'rb') as features:\n",
    "        database = features.readlines()\n",
    "        \n",
    "        for i, line in enumerate(database):  # each line\n",
    "            f_info = line.decode().split()  # find fields\n",
    "            try:\n",
    "                if 'M' == f_info[2][0] or 'D' == f_info[2][0] or 'T' == f_info[2][0]:\n",
    "                    if str(np.array(f_info[2])) in sensor_codes:\n",
    "                        sensors.append(str(np.array(f_info[2])))\n",
    "                    else:\n",
    "                        continue\n",
    "                       \n",
    "                    if 'OFF' in f_info[3]:\n",
    "                        values.append('OFF')\n",
    "                    elif 'ON' in f_info[3]:\n",
    "                        values.append('ON')\n",
    "                    else:\n",
    "                        try:\n",
    "                            values.append(float(str(np.array(f_info[3]))))\n",
    "                        except ValueError:\n",
    "                            del sensors[-1]\n",
    "                            continue\n",
    "                            \n",
    "                    # choose only M D T sensors, avoiding unexpected errors\n",
    "                    if not ('.' in str(np.array(f_info[0])) + str(np.array(f_info[1]))):\n",
    "                        f_info[1] = f_info[1] + '.000000'\n",
    "                        \n",
    "                    try:\n",
    "                        timestamps.append(datetime.strptime(str(np.array(f_info[0])) + str(np.array(f_info[1])),\n",
    "                                                        \"%Y-%m-%d%H:%M:%S.%f\"))\n",
    "                    except ValueError:\n",
    "                        del sensors[-1]\n",
    "                        del values[-1]\n",
    "                        continue\n",
    "                        \n",
    "                    if len(f_info) == 4:  # if activity does not exist\n",
    "                        activities.append(current_activity)\n",
    "                    else:  # if activity exists\n",
    "                        des = str(' '.join(np.array(f_info[4:])))\n",
    "                        if 'begin' in des:\n",
    "                            current_activity = re.sub('begin', '', des)\n",
    "                            if current_activity[-1] == ' ':  # if white space at the end\n",
    "                                current_activity = current_activity[:-1]  # delete white space\n",
    "                            activities.append(current_activity)\n",
    "                        if 'end' in des:\n",
    "                            activities.append(current_activity)\n",
    "                            current_activity = ''\n",
    "            except IndexError:\n",
    "                print(i, line)\n",
    "                \n",
    "    features.close()\n",
    "    \n",
    "    return pd.DataFrame(np.transpose(np.array([timestamps, sensors, values, activities])), \n",
    "                        columns = ['Timestamps', 'Sensors', 'Values', 'Activities'])\n",
    "    "
   ]
  },
  {
   "cell_type": "code",
   "execution_count": 239,
   "id": "c96df1b8",
   "metadata": {},
   "outputs": [],
   "source": [
    "aruba_dataset = load_dataset(\"./datasets/aruba/data\")"
   ]
  },
  {
   "cell_type": "code",
   "execution_count": 240,
   "id": "97f1cd12",
   "metadata": {},
   "outputs": [],
   "source": [
    "#copy_aruba = aruba_dataset[:5000].copy();\n",
    "copy_aruba = aruba_dataset.copy();"
   ]
  },
  {
   "cell_type": "code",
   "execution_count": 241,
   "id": "395b7fd7",
   "metadata": {},
   "outputs": [],
   "source": [
    "def add_transition_labels(aruba_set):\n",
    "    new_activity = ''\n",
    "    previous_activity = ''\n",
    "    \n",
    "    for i, entry in enumerate(aruba_set['Activities']): \n",
    "        if entry == '':\n",
    "            if new_activity != '':\n",
    "                aruba_set.at[i, 'Activities'] = new_activity\n",
    "            else:\n",
    "                for next_entry in aruba_set['Activities'][i:]:\n",
    "                    if next_entry != '':\n",
    "                        new_activity = 'Transition_' + previous_activity + '_' + next_entry\n",
    "                        aruba_set.at[i, 'Activities'] = new_activity\n",
    "                        break            \n",
    "        else:\n",
    "            previous_activity = entry\n",
    "            new_activity = ''\n",
    "    return aruba_set"
   ]
  },
  {
   "cell_type": "code",
   "execution_count": 242,
   "id": "bb9ae488",
   "metadata": {},
   "outputs": [],
   "source": [
    "complete_aruba = add_transition_labels(copy_aruba)"
   ]
  },
  {
   "cell_type": "code",
   "execution_count": 243,
   "id": "07068611",
   "metadata": {},
   "outputs": [
    {
     "data": {
      "text/html": [
       "<div>\n",
       "<style scoped>\n",
       "    .dataframe tbody tr th:only-of-type {\n",
       "        vertical-align: middle;\n",
       "    }\n",
       "\n",
       "    .dataframe tbody tr th {\n",
       "        vertical-align: top;\n",
       "    }\n",
       "\n",
       "    .dataframe thead th {\n",
       "        text-align: right;\n",
       "    }\n",
       "</style>\n",
       "<table border=\"1\" class=\"dataframe\">\n",
       "  <thead>\n",
       "    <tr style=\"text-align: right;\">\n",
       "      <th></th>\n",
       "      <th>Timestamps</th>\n",
       "      <th>Sensors</th>\n",
       "      <th>Values</th>\n",
       "      <th>Activities</th>\n",
       "    </tr>\n",
       "  </thead>\n",
       "  <tbody>\n",
       "    <tr>\n",
       "      <th>0</th>\n",
       "      <td>2010-11-04 00:03:50.209589</td>\n",
       "      <td>M003</td>\n",
       "      <td>ON</td>\n",
       "      <td>Sleeping</td>\n",
       "    </tr>\n",
       "    <tr>\n",
       "      <th>1</th>\n",
       "      <td>2010-11-04 00:03:57.399391</td>\n",
       "      <td>M003</td>\n",
       "      <td>OFF</td>\n",
       "      <td>Sleeping</td>\n",
       "    </tr>\n",
       "    <tr>\n",
       "      <th>2</th>\n",
       "      <td>2010-11-04 00:15:08.984841</td>\n",
       "      <td>T002</td>\n",
       "      <td>21.5</td>\n",
       "      <td>Sleeping</td>\n",
       "    </tr>\n",
       "    <tr>\n",
       "      <th>3</th>\n",
       "      <td>2010-11-04 00:30:19.185547</td>\n",
       "      <td>T003</td>\n",
       "      <td>21.0</td>\n",
       "      <td>Sleeping</td>\n",
       "    </tr>\n",
       "    <tr>\n",
       "      <th>4</th>\n",
       "      <td>2010-11-04 00:30:19.385336</td>\n",
       "      <td>T004</td>\n",
       "      <td>21.0</td>\n",
       "      <td>Sleeping</td>\n",
       "    </tr>\n",
       "    <tr>\n",
       "      <th>5</th>\n",
       "      <td>2010-11-04 00:35:22.245870</td>\n",
       "      <td>T005</td>\n",
       "      <td>20.5</td>\n",
       "      <td>Sleeping</td>\n",
       "    </tr>\n",
       "    <tr>\n",
       "      <th>6</th>\n",
       "      <td>2010-11-04 00:40:25.428962</td>\n",
       "      <td>T005</td>\n",
       "      <td>21.0</td>\n",
       "      <td>Sleeping</td>\n",
       "    </tr>\n",
       "    <tr>\n",
       "      <th>7</th>\n",
       "      <td>2010-11-04 00:45:28.658171</td>\n",
       "      <td>T005</td>\n",
       "      <td>20.5</td>\n",
       "      <td>Sleeping</td>\n",
       "    </tr>\n",
       "    <tr>\n",
       "      <th>8</th>\n",
       "      <td>2010-11-04 01:05:42.269469</td>\n",
       "      <td>T001</td>\n",
       "      <td>20.0</td>\n",
       "      <td>Sleeping</td>\n",
       "    </tr>\n",
       "    <tr>\n",
       "      <th>9</th>\n",
       "      <td>2010-11-04 01:15:48.936777</td>\n",
       "      <td>T002</td>\n",
       "      <td>21.0</td>\n",
       "      <td>Sleeping</td>\n",
       "    </tr>\n",
       "  </tbody>\n",
       "</table>\n",
       "</div>"
      ],
      "text/plain": [
       "                  Timestamps Sensors Values Activities\n",
       "0 2010-11-04 00:03:50.209589    M003     ON   Sleeping\n",
       "1 2010-11-04 00:03:57.399391    M003    OFF   Sleeping\n",
       "2 2010-11-04 00:15:08.984841    T002   21.5   Sleeping\n",
       "3 2010-11-04 00:30:19.185547    T003   21.0   Sleeping\n",
       "4 2010-11-04 00:30:19.385336    T004   21.0   Sleeping\n",
       "5 2010-11-04 00:35:22.245870    T005   20.5   Sleeping\n",
       "6 2010-11-04 00:40:25.428962    T005   21.0   Sleeping\n",
       "7 2010-11-04 00:45:28.658171    T005   20.5   Sleeping\n",
       "8 2010-11-04 01:05:42.269469    T001   20.0   Sleeping\n",
       "9 2010-11-04 01:15:48.936777    T002   21.0   Sleeping"
      ]
     },
     "execution_count": 243,
     "metadata": {},
     "output_type": "execute_result"
    }
   ],
   "source": [
    "complete_aruba.head(10)"
   ]
  },
  {
   "cell_type": "markdown",
   "id": "dfc19496",
   "metadata": {},
   "source": [
    "# Pre-processing"
   ]
  },
  {
   "cell_type": "code",
   "execution_count": 244,
   "id": "5fc13b07",
   "metadata": {},
   "outputs": [],
   "source": [
    "def process_time_data(dataset):\n",
    "    weekday = []\n",
    "    seconds = []\n",
    "    daytime = []\n",
    "    \n",
    "    for instance in dataset[\"Timestamps\"]:\n",
    "        weekday.append(instance.day_of_week)\n",
    "        seconds.append(instance.hour * 3600 + instance.minute * 60 + instance.second)\n",
    "        if instance.hour >= 0 and instance.hour <= 6:\n",
    "            daytime.append('Morning_Night')\n",
    "        elif instance.hour >= 6 and instance.hour <= 12:\n",
    "            daytime.append('Morning_Day')\n",
    "        elif instance.hour >= 12 and instance.hour <= 18:\n",
    "            daytime.append('Afternoon')\n",
    "        else: \n",
    "            daytime.append('Evening')\n",
    "        \n",
    "    dataset[\"Weekday\"] = weekday\n",
    "    dataset[\"Seconds\"] = seconds\n",
    "    dataset[\"Daytime\"] = daytime\n",
    "    return dataset\n"
   ]
  },
  {
   "cell_type": "code",
   "execution_count": 245,
   "id": "35286722",
   "metadata": {},
   "outputs": [],
   "source": [
    "copy_complete_aruba = complete_aruba.copy();"
   ]
  },
  {
   "cell_type": "code",
   "execution_count": 246,
   "id": "eff9ee86",
   "metadata": {},
   "outputs": [],
   "source": [
    "timed_aruba = process_time_data(copy_complete_aruba)"
   ]
  },
  {
   "cell_type": "code",
   "execution_count": 247,
   "id": "bd0ebf37",
   "metadata": {},
   "outputs": [
    {
     "data": {
      "text/html": [
       "<div>\n",
       "<style scoped>\n",
       "    .dataframe tbody tr th:only-of-type {\n",
       "        vertical-align: middle;\n",
       "    }\n",
       "\n",
       "    .dataframe tbody tr th {\n",
       "        vertical-align: top;\n",
       "    }\n",
       "\n",
       "    .dataframe thead th {\n",
       "        text-align: right;\n",
       "    }\n",
       "</style>\n",
       "<table border=\"1\" class=\"dataframe\">\n",
       "  <thead>\n",
       "    <tr style=\"text-align: right;\">\n",
       "      <th></th>\n",
       "      <th>Timestamps</th>\n",
       "      <th>Sensors</th>\n",
       "      <th>Values</th>\n",
       "      <th>Activities</th>\n",
       "      <th>Weekday</th>\n",
       "      <th>Seconds</th>\n",
       "      <th>Daytime</th>\n",
       "    </tr>\n",
       "  </thead>\n",
       "  <tbody>\n",
       "    <tr>\n",
       "      <th>0</th>\n",
       "      <td>2010-11-04 00:03:50.209589</td>\n",
       "      <td>M003</td>\n",
       "      <td>ON</td>\n",
       "      <td>Sleeping</td>\n",
       "      <td>3</td>\n",
       "      <td>230</td>\n",
       "      <td>Morning_Night</td>\n",
       "    </tr>\n",
       "    <tr>\n",
       "      <th>1</th>\n",
       "      <td>2010-11-04 00:03:57.399391</td>\n",
       "      <td>M003</td>\n",
       "      <td>OFF</td>\n",
       "      <td>Sleeping</td>\n",
       "      <td>3</td>\n",
       "      <td>237</td>\n",
       "      <td>Morning_Night</td>\n",
       "    </tr>\n",
       "    <tr>\n",
       "      <th>2</th>\n",
       "      <td>2010-11-04 00:15:08.984841</td>\n",
       "      <td>T002</td>\n",
       "      <td>21.5</td>\n",
       "      <td>Sleeping</td>\n",
       "      <td>3</td>\n",
       "      <td>908</td>\n",
       "      <td>Morning_Night</td>\n",
       "    </tr>\n",
       "    <tr>\n",
       "      <th>3</th>\n",
       "      <td>2010-11-04 00:30:19.185547</td>\n",
       "      <td>T003</td>\n",
       "      <td>21.0</td>\n",
       "      <td>Sleeping</td>\n",
       "      <td>3</td>\n",
       "      <td>1819</td>\n",
       "      <td>Morning_Night</td>\n",
       "    </tr>\n",
       "    <tr>\n",
       "      <th>4</th>\n",
       "      <td>2010-11-04 00:30:19.385336</td>\n",
       "      <td>T004</td>\n",
       "      <td>21.0</td>\n",
       "      <td>Sleeping</td>\n",
       "      <td>3</td>\n",
       "      <td>1819</td>\n",
       "      <td>Morning_Night</td>\n",
       "    </tr>\n",
       "  </tbody>\n",
       "</table>\n",
       "</div>"
      ],
      "text/plain": [
       "                  Timestamps Sensors Values Activities  Weekday  Seconds  \\\n",
       "0 2010-11-04 00:03:50.209589    M003     ON   Sleeping        3      230   \n",
       "1 2010-11-04 00:03:57.399391    M003    OFF   Sleeping        3      237   \n",
       "2 2010-11-04 00:15:08.984841    T002   21.5   Sleeping        3      908   \n",
       "3 2010-11-04 00:30:19.185547    T003   21.0   Sleeping        3     1819   \n",
       "4 2010-11-04 00:30:19.385336    T004   21.0   Sleeping        3     1819   \n",
       "\n",
       "         Daytime  \n",
       "0  Morning_Night  \n",
       "1  Morning_Night  \n",
       "2  Morning_Night  \n",
       "3  Morning_Night  \n",
       "4  Morning_Night  "
      ]
     },
     "execution_count": 247,
     "metadata": {},
     "output_type": "execute_result"
    }
   ],
   "source": [
    "timed_aruba.head()\n"
   ]
  },
  {
   "cell_type": "code",
   "execution_count": 248,
   "id": "385698cc",
   "metadata": {},
   "outputs": [
    {
     "data": {
      "text/html": [
       "<div>\n",
       "<style scoped>\n",
       "    .dataframe tbody tr th:only-of-type {\n",
       "        vertical-align: middle;\n",
       "    }\n",
       "\n",
       "    .dataframe tbody tr th {\n",
       "        vertical-align: top;\n",
       "    }\n",
       "\n",
       "    .dataframe thead th {\n",
       "        text-align: right;\n",
       "    }\n",
       "</style>\n",
       "<table border=\"1\" class=\"dataframe\">\n",
       "  <thead>\n",
       "    <tr style=\"text-align: right;\">\n",
       "      <th></th>\n",
       "      <th>Weekday</th>\n",
       "      <th>Seconds</th>\n",
       "    </tr>\n",
       "  </thead>\n",
       "  <tbody>\n",
       "    <tr>\n",
       "      <th>count</th>\n",
       "      <td>1.709857e+06</td>\n",
       "      <td>1.709857e+06</td>\n",
       "    </tr>\n",
       "    <tr>\n",
       "      <th>mean</th>\n",
       "      <td>2.988941e+00</td>\n",
       "      <td>5.017661e+04</td>\n",
       "    </tr>\n",
       "    <tr>\n",
       "      <th>std</th>\n",
       "      <td>2.021840e+00</td>\n",
       "      <td>1.894967e+04</td>\n",
       "    </tr>\n",
       "    <tr>\n",
       "      <th>min</th>\n",
       "      <td>0.000000e+00</td>\n",
       "      <td>0.000000e+00</td>\n",
       "    </tr>\n",
       "    <tr>\n",
       "      <th>25%</th>\n",
       "      <td>1.000000e+00</td>\n",
       "      <td>3.486000e+04</td>\n",
       "    </tr>\n",
       "    <tr>\n",
       "      <th>50%</th>\n",
       "      <td>3.000000e+00</td>\n",
       "      <td>5.172100e+04</td>\n",
       "    </tr>\n",
       "    <tr>\n",
       "      <th>75%</th>\n",
       "      <td>5.000000e+00</td>\n",
       "      <td>6.566100e+04</td>\n",
       "    </tr>\n",
       "    <tr>\n",
       "      <th>max</th>\n",
       "      <td>6.000000e+00</td>\n",
       "      <td>8.639900e+04</td>\n",
       "    </tr>\n",
       "  </tbody>\n",
       "</table>\n",
       "</div>"
      ],
      "text/plain": [
       "            Weekday       Seconds\n",
       "count  1.709857e+06  1.709857e+06\n",
       "mean   2.988941e+00  5.017661e+04\n",
       "std    2.021840e+00  1.894967e+04\n",
       "min    0.000000e+00  0.000000e+00\n",
       "25%    1.000000e+00  3.486000e+04\n",
       "50%    3.000000e+00  5.172100e+04\n",
       "75%    5.000000e+00  6.566100e+04\n",
       "max    6.000000e+00  8.639900e+04"
      ]
     },
     "execution_count": 248,
     "metadata": {},
     "output_type": "execute_result"
    }
   ],
   "source": [
    "timed_aruba.describe()"
   ]
  },
  {
   "cell_type": "code",
   "execution_count": 249,
   "id": "e18f3a67",
   "metadata": {},
   "outputs": [],
   "source": [
    "data = timed_aruba.drop(columns=['Timestamps'])"
   ]
  },
  {
   "cell_type": "code",
   "execution_count": 250,
   "id": "777f3228",
   "metadata": {},
   "outputs": [
    {
     "data": {
      "text/html": [
       "<div>\n",
       "<style scoped>\n",
       "    .dataframe tbody tr th:only-of-type {\n",
       "        vertical-align: middle;\n",
       "    }\n",
       "\n",
       "    .dataframe tbody tr th {\n",
       "        vertical-align: top;\n",
       "    }\n",
       "\n",
       "    .dataframe thead th {\n",
       "        text-align: right;\n",
       "    }\n",
       "</style>\n",
       "<table border=\"1\" class=\"dataframe\">\n",
       "  <thead>\n",
       "    <tr style=\"text-align: right;\">\n",
       "      <th></th>\n",
       "      <th>Sensors</th>\n",
       "      <th>Values</th>\n",
       "      <th>Activities</th>\n",
       "      <th>Weekday</th>\n",
       "      <th>Seconds</th>\n",
       "      <th>Daytime</th>\n",
       "    </tr>\n",
       "  </thead>\n",
       "  <tbody>\n",
       "    <tr>\n",
       "      <th>0</th>\n",
       "      <td>M003</td>\n",
       "      <td>ON</td>\n",
       "      <td>Sleeping</td>\n",
       "      <td>3</td>\n",
       "      <td>230</td>\n",
       "      <td>Morning_Night</td>\n",
       "    </tr>\n",
       "    <tr>\n",
       "      <th>1</th>\n",
       "      <td>M003</td>\n",
       "      <td>OFF</td>\n",
       "      <td>Sleeping</td>\n",
       "      <td>3</td>\n",
       "      <td>237</td>\n",
       "      <td>Morning_Night</td>\n",
       "    </tr>\n",
       "    <tr>\n",
       "      <th>2</th>\n",
       "      <td>T002</td>\n",
       "      <td>21.5</td>\n",
       "      <td>Sleeping</td>\n",
       "      <td>3</td>\n",
       "      <td>908</td>\n",
       "      <td>Morning_Night</td>\n",
       "    </tr>\n",
       "    <tr>\n",
       "      <th>3</th>\n",
       "      <td>T003</td>\n",
       "      <td>21.0</td>\n",
       "      <td>Sleeping</td>\n",
       "      <td>3</td>\n",
       "      <td>1819</td>\n",
       "      <td>Morning_Night</td>\n",
       "    </tr>\n",
       "    <tr>\n",
       "      <th>4</th>\n",
       "      <td>T004</td>\n",
       "      <td>21.0</td>\n",
       "      <td>Sleeping</td>\n",
       "      <td>3</td>\n",
       "      <td>1819</td>\n",
       "      <td>Morning_Night</td>\n",
       "    </tr>\n",
       "  </tbody>\n",
       "</table>\n",
       "</div>"
      ],
      "text/plain": [
       "  Sensors Values Activities  Weekday  Seconds        Daytime\n",
       "0    M003     ON   Sleeping        3      230  Morning_Night\n",
       "1    M003    OFF   Sleeping        3      237  Morning_Night\n",
       "2    T002   21.5   Sleeping        3      908  Morning_Night\n",
       "3    T003   21.0   Sleeping        3     1819  Morning_Night\n",
       "4    T004   21.0   Sleeping        3     1819  Morning_Night"
      ]
     },
     "execution_count": 250,
     "metadata": {},
     "output_type": "execute_result"
    }
   ],
   "source": [
    "data.head()"
   ]
  },
  {
   "cell_type": "code",
   "execution_count": 251,
   "id": "24bdd252",
   "metadata": {},
   "outputs": [
    {
     "name": "stdout",
     "output_type": "stream",
     "text": [
      "0    M003\n",
      "1    M003\n",
      "2    T002\n",
      "3    T003\n",
      "4    T004\n",
      "Name: Sensors, dtype: object\n",
      "0      ON\n",
      "1     OFF\n",
      "2    21.5\n",
      "3    21.0\n",
      "4    21.0\n",
      "Name: Values, dtype: object\n"
     ]
    }
   ],
   "source": [
    "sensors_col = data['Sensors'].copy()\n",
    "values_col = data['Values'].copy()\n",
    "\n",
    "print(sensors_col[:5])\n",
    "print(values_col[:5])"
   ]
  },
  {
   "cell_type": "code",
   "execution_count": 252,
   "id": "9c5edd9c",
   "metadata": {},
   "outputs": [
    {
     "data": {
      "text/html": [
       "<div>\n",
       "<style scoped>\n",
       "    .dataframe tbody tr th:only-of-type {\n",
       "        vertical-align: middle;\n",
       "    }\n",
       "\n",
       "    .dataframe tbody tr th {\n",
       "        vertical-align: top;\n",
       "    }\n",
       "\n",
       "    .dataframe thead th {\n",
       "        text-align: right;\n",
       "    }\n",
       "</style>\n",
       "<table border=\"1\" class=\"dataframe\">\n",
       "  <thead>\n",
       "    <tr style=\"text-align: right;\">\n",
       "      <th></th>\n",
       "      <th>Activities</th>\n",
       "      <th>Weekday</th>\n",
       "      <th>Seconds</th>\n",
       "      <th>Daytime</th>\n",
       "    </tr>\n",
       "  </thead>\n",
       "  <tbody>\n",
       "    <tr>\n",
       "      <th>0</th>\n",
       "      <td>Sleeping</td>\n",
       "      <td>3</td>\n",
       "      <td>230</td>\n",
       "      <td>Morning_Night</td>\n",
       "    </tr>\n",
       "    <tr>\n",
       "      <th>1</th>\n",
       "      <td>Sleeping</td>\n",
       "      <td>3</td>\n",
       "      <td>237</td>\n",
       "      <td>Morning_Night</td>\n",
       "    </tr>\n",
       "    <tr>\n",
       "      <th>2</th>\n",
       "      <td>Sleeping</td>\n",
       "      <td>3</td>\n",
       "      <td>908</td>\n",
       "      <td>Morning_Night</td>\n",
       "    </tr>\n",
       "    <tr>\n",
       "      <th>3</th>\n",
       "      <td>Sleeping</td>\n",
       "      <td>3</td>\n",
       "      <td>1819</td>\n",
       "      <td>Morning_Night</td>\n",
       "    </tr>\n",
       "    <tr>\n",
       "      <th>4</th>\n",
       "      <td>Sleeping</td>\n",
       "      <td>3</td>\n",
       "      <td>1819</td>\n",
       "      <td>Morning_Night</td>\n",
       "    </tr>\n",
       "  </tbody>\n",
       "</table>\n",
       "</div>"
      ],
      "text/plain": [
       "  Activities  Weekday  Seconds        Daytime\n",
       "0   Sleeping        3      230  Morning_Night\n",
       "1   Sleeping        3      237  Morning_Night\n",
       "2   Sleeping        3      908  Morning_Night\n",
       "3   Sleeping        3     1819  Morning_Night\n",
       "4   Sleeping        3     1819  Morning_Night"
      ]
     },
     "execution_count": 252,
     "metadata": {},
     "output_type": "execute_result"
    }
   ],
   "source": [
    "data2 = data.drop(columns=['Sensors', 'Values'])\n",
    "data2.head()"
   ]
  },
  {
   "cell_type": "code",
   "execution_count": 253,
   "id": "8dc607c2",
   "metadata": {},
   "outputs": [
    {
     "name": "stdout",
     "output_type": "stream",
     "text": [
      "23.018337522518657\n"
     ]
    }
   ],
   "source": [
    "temperatures = []\n",
    "for x in values_col:\n",
    "    try:\n",
    "        temperatures.append(float(x))\n",
    "    except ValueError:\n",
    "        pass\n",
    "\n",
    "mean_temp = np.array(temperatures).mean()\n",
    "print(mean_temp)"
   ]
  },
  {
   "cell_type": "code",
   "execution_count": 254,
   "id": "3f4e32fd",
   "metadata": {},
   "outputs": [],
   "source": [
    "def init_df_state(sensor_codes, mean_temp):\n",
    "    state_df = pd.DataFrame()\n",
    "    for sensor in sensor_codes:\n",
    "        if sensor[0] == 'T':\n",
    "            state_df.at[0, sensor] = mean_temp\n",
    "        else:\n",
    "            state_df.at[0, sensor] = 0 #OFF\n",
    "            \n",
    "    return state_df"
   ]
  },
  {
   "cell_type": "code",
   "execution_count": 255,
   "id": "3e70dbf4",
   "metadata": {},
   "outputs": [
    {
     "data": {
      "text/html": [
       "<div>\n",
       "<style scoped>\n",
       "    .dataframe tbody tr th:only-of-type {\n",
       "        vertical-align: middle;\n",
       "    }\n",
       "\n",
       "    .dataframe tbody tr th {\n",
       "        vertical-align: top;\n",
       "    }\n",
       "\n",
       "    .dataframe thead th {\n",
       "        text-align: right;\n",
       "    }\n",
       "</style>\n",
       "<table border=\"1\" class=\"dataframe\">\n",
       "  <thead>\n",
       "    <tr style=\"text-align: right;\">\n",
       "      <th></th>\n",
       "      <th>M001</th>\n",
       "      <th>M002</th>\n",
       "      <th>M003</th>\n",
       "      <th>M004</th>\n",
       "      <th>M005</th>\n",
       "      <th>M006</th>\n",
       "      <th>M007</th>\n",
       "      <th>M008</th>\n",
       "      <th>M009</th>\n",
       "      <th>M010</th>\n",
       "      <th>...</th>\n",
       "      <th>M030</th>\n",
       "      <th>D001</th>\n",
       "      <th>D002</th>\n",
       "      <th>D003</th>\n",
       "      <th>D004</th>\n",
       "      <th>T001</th>\n",
       "      <th>T002</th>\n",
       "      <th>T003</th>\n",
       "      <th>T004</th>\n",
       "      <th>T005</th>\n",
       "    </tr>\n",
       "  </thead>\n",
       "  <tbody>\n",
       "    <tr>\n",
       "      <th>0</th>\n",
       "      <td>0.0</td>\n",
       "      <td>0.0</td>\n",
       "      <td>0.0</td>\n",
       "      <td>0.0</td>\n",
       "      <td>0.0</td>\n",
       "      <td>0.0</td>\n",
       "      <td>0.0</td>\n",
       "      <td>0.0</td>\n",
       "      <td>0.0</td>\n",
       "      <td>0.0</td>\n",
       "      <td>...</td>\n",
       "      <td>0.0</td>\n",
       "      <td>0.0</td>\n",
       "      <td>0.0</td>\n",
       "      <td>0.0</td>\n",
       "      <td>0.0</td>\n",
       "      <td>23.018338</td>\n",
       "      <td>23.018338</td>\n",
       "      <td>23.018338</td>\n",
       "      <td>23.018338</td>\n",
       "      <td>23.018338</td>\n",
       "    </tr>\n",
       "  </tbody>\n",
       "</table>\n",
       "<p>1 rows × 39 columns</p>\n",
       "</div>"
      ],
      "text/plain": [
       "   M001  M002  M003  M004  M005  M006  M007  M008  M009  M010  ...  M030  \\\n",
       "0   0.0   0.0   0.0   0.0   0.0   0.0   0.0   0.0   0.0   0.0  ...   0.0   \n",
       "\n",
       "   D001  D002  D003  D004       T001       T002       T003       T004  \\\n",
       "0   0.0   0.0   0.0   0.0  23.018338  23.018338  23.018338  23.018338   \n",
       "\n",
       "        T005  \n",
       "0  23.018338  \n",
       "\n",
       "[1 rows x 39 columns]"
      ]
     },
     "execution_count": 255,
     "metadata": {},
     "output_type": "execute_result"
    }
   ],
   "source": [
    "state_df = init_df_state(sensor_codes, mean_temp)\n",
    "state_df"
   ]
  },
  {
   "cell_type": "code",
   "execution_count": 262,
   "id": "b7dc3e40",
   "metadata": {},
   "outputs": [],
   "source": [
    "def compute_sensor_state(current_state, sensors, values):\n",
    "    state = pd.DataFrame(columns=current_state.columns)\n",
    "    #state = current_state.copy()\n",
    "    \n",
    "    for i in range(0, len(sensors)):\n",
    "        if values[i] == 'ON' or values[i] == 'OPEN':\n",
    "            current_state.at[0, sensors[i]] = 1\n",
    "        elif values[i] == 'OFF' or values[i] == 'CLOSE':\n",
    "            current_state.at[0, sensors[i]] = 0\n",
    "        else:\n",
    "            current_state.at[0, sensors[i]] = float(values[i])\n",
    "            \n",
    "        state = state.append(pd.Series(current_state.iloc[0]), ignore_index=True)\n",
    "       \n",
    "    \n",
    "    return state\n",
    "    "
   ]
  },
  {
   "cell_type": "code",
   "execution_count": 257,
   "id": "0e0bfac7",
   "metadata": {},
   "outputs": [
    {
     "name": "stdout",
     "output_type": "stream",
     "text": [
      "talent\n"
     ]
    }
   ],
   "source": [
    "print('talent')\n"
   ]
  },
  {
   "cell_type": "code",
   "execution_count": null,
   "id": "d40df08c",
   "metadata": {},
   "outputs": [],
   "source": [
    "state = compute_sensor_state(state_df, sensors_col, values_col)"
   ]
  },
  {
   "cell_type": "code",
   "execution_count": null,
   "id": "1a77c905",
   "metadata": {},
   "outputs": [],
   "source": [
    "state.shape"
   ]
  },
  {
   "cell_type": "code",
   "execution_count": null,
   "id": "4a956e8e",
   "metadata": {},
   "outputs": [],
   "source": [
    "state.describe()"
   ]
  },
  {
   "cell_type": "code",
   "execution_count": null,
   "id": "08d561e5",
   "metadata": {},
   "outputs": [],
   "source": [
    "data2.shape\n",
    "data2"
   ]
  },
  {
   "cell_type": "code",
   "execution_count": null,
   "id": "60867b63",
   "metadata": {},
   "outputs": [],
   "source": [
    "state"
   ]
  },
  {
   "cell_type": "code",
   "execution_count": null,
   "id": "79239581",
   "metadata": {},
   "outputs": [],
   "source": [
    "new_data = pd.concat([data2, state], axis=1).reindex(data2.index)"
   ]
  },
  {
   "cell_type": "code",
   "execution_count": null,
   "id": "0ca88c91",
   "metadata": {},
   "outputs": [],
   "source": [
    "new_data.head()"
   ]
  },
  {
   "cell_type": "code",
   "execution_count": null,
   "id": "6eda4532",
   "metadata": {},
   "outputs": [],
   "source": [
    "#fig = plt.figure(figsize=(30,2))\n",
    "#plt.pie(new_data['Activities'])\n",
    "#plt.show()\n",
    "from collections import Counter\n",
    "\n",
    "count = Counter(new_data['Activities'])\n",
    "print(count)"
   ]
  },
  {
   "cell_type": "code",
   "execution_count": null,
   "id": "78c93131",
   "metadata": {},
   "outputs": [],
   "source": []
  },
  {
   "cell_type": "code",
   "execution_count": null,
   "id": "0906aff5",
   "metadata": {},
   "outputs": [],
   "source": [
    "keys = []\n",
    "values = []\n",
    "for key, value in count.items():\n",
    "    keys.append(key)\n",
    "    values.append(value)\n",
    "    \n",
    "print(keys)\n",
    "print(values)"
   ]
  },
  {
   "cell_type": "code",
   "execution_count": null,
   "id": "89cd279d",
   "metadata": {},
   "outputs": [],
   "source": [
    "fig = plt.figure(figsize=(10,10))\n",
    "plt.pie(values, labels=keys,colors=sns.color_palette('bright')[0:20], autopct='%.0f%%')\n",
    "plt.show()"
   ]
  },
  {
   "cell_type": "code",
   "execution_count": null,
   "id": "5103fd09",
   "metadata": {},
   "outputs": [],
   "source": [
    "fig = plt.figure(figsize=(30,5))\n",
    "plt.xticks(rotation='vertical', fontsize=20)\n",
    "plt.bar(keys, values)"
   ]
  },
  {
   "cell_type": "code",
   "execution_count": null,
   "id": "e1e500fb",
   "metadata": {},
   "outputs": [],
   "source": []
  }
 ],
 "metadata": {
  "kernelspec": {
   "display_name": "Python 3 (ipykernel)",
   "language": "python",
   "name": "python3"
  },
  "language_info": {
   "codemirror_mode": {
    "name": "ipython",
    "version": 3
   },
   "file_extension": ".py",
   "mimetype": "text/x-python",
   "name": "python",
   "nbconvert_exporter": "python",
   "pygments_lexer": "ipython3",
   "version": "3.9.7"
  }
 },
 "nbformat": 4,
 "nbformat_minor": 5
}
