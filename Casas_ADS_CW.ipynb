{
 "cells": [
  {
   "cell_type": "markdown",
   "id": "c81386e6",
   "metadata": {},
   "source": [
    "# Casas smarthome ADS Coursework"
   ]
  },
  {
   "cell_type": "code",
   "execution_count": 1,
   "id": "62d3bdc2",
   "metadata": {},
   "outputs": [],
   "source": [
    "import numpy as np\n",
    "import pandas as pd\n",
    "import matplotlib.pyplot as plt\n",
    "%matplotlib inline"
   ]
  },
  {
   "cell_type": "code",
   "execution_count": 3,
   "id": "1958c552",
   "metadata": {},
   "outputs": [],
   "source": [
    "import datetime\n",
    "import os\n",
    "import re\n",
    "import seaborn as sns\n",
    "from collections import Counter\n",
    "from datetime import datetime\n",
    "\n"
   ]
  },
  {
   "cell_type": "code",
   "execution_count": 4,
   "id": "e93bcbf1",
   "metadata": {},
   "outputs": [],
   "source": [
    "sensor_codes = ['M001', 'M002', 'M003', 'M004', 'M005', 'M006', 'M007', \n",
    "                'M008', 'M009', 'M010', 'M011', 'M012', 'M013', 'M014',\n",
    "                'M015', 'M016', 'M017', 'M018', 'M019', 'M020', 'M021', \n",
    "                'M022', 'M023', 'M024', 'M025', 'M026', 'M027', 'M028',\n",
    "                'M029', 'M030', 'D001', 'D002', 'D003', 'D004', 'T001',\n",
    "                'T002', 'T003', 'T004', 'T005']"
   ]
  },
  {
   "cell_type": "markdown",
   "id": "28ad983e",
   "metadata": {},
   "source": [
    "# Data cleaning"
   ]
  },
  {
   "cell_type": "code",
   "execution_count": 5,
   "id": "52947b58",
   "metadata": {},
   "outputs": [],
   "source": [
    "def load_dataset(filename):\n",
    "    timestamps = []\n",
    "    sensors = []\n",
    "    values = []\n",
    "    activities = []\n",
    "    current_activity = ''  # empty\n",
    "\n",
    "    with open(filename, 'rb') as features:\n",
    "        database = features.readlines()\n",
    "        \n",
    "        for i, line in enumerate(database):  # each line\n",
    "            f_info = line.decode().split()  # find fields\n",
    "            try:\n",
    "                if 'M' == f_info[2][0] or 'D' == f_info[2][0] or 'T' == f_info[2][0]:\n",
    "                    if str(np.array(f_info[2])) in sensor_codes:\n",
    "                        sensors.append(str(np.array(f_info[2])))\n",
    "                    else:\n",
    "                        continue\n",
    "                       \n",
    "                    if 'OFF' in f_info[3]:\n",
    "                        values.append('OFF')\n",
    "                    elif 'ON' in f_info[3]:\n",
    "                        values.append('ON')\n",
    "                    else:\n",
    "                        try:\n",
    "                            values.append(float(str(np.array(f_info[3]))))\n",
    "                        except ValueError:\n",
    "                            del sensors[-1]\n",
    "                            continue\n",
    "                            \n",
    "                    # choose only M D T sensors, avoiding unexpected errors\n",
    "                    if not ('.' in str(np.array(f_info[0])) + str(np.array(f_info[1]))):\n",
    "                        f_info[1] = f_info[1] + '.000000'\n",
    "                        \n",
    "                    try:\n",
    "                        timestamps.append(datetime.strptime(str(np.array(f_info[0])) + str(np.array(f_info[1])),\n",
    "                                                        \"%Y-%m-%d%H:%M:%S.%f\"))\n",
    "                    except ValueError:\n",
    "                        del sensors[-1]\n",
    "                        del values[-1]\n",
    "                        continue\n",
    "                        \n",
    "                    if len(f_info) == 4:  # if activity does not exist\n",
    "                        activities.append(current_activity)\n",
    "                    else:  # if activity exists\n",
    "                        des = str(' '.join(np.array(f_info[4:])))\n",
    "                        if 'begin' in des:\n",
    "                            current_activity = re.sub('begin', '', des)\n",
    "                            if current_activity[-1] == ' ':  # if white space at the end\n",
    "                                current_activity = current_activity[:-1]  # delete white space\n",
    "                            activities.append(current_activity)\n",
    "                        if 'end' in des:\n",
    "                            activities.append(current_activity)\n",
    "                            current_activity = ''\n",
    "            except IndexError:\n",
    "                print(i, line)\n",
    "                \n",
    "    features.close()\n",
    "    \n",
    "    return pd.DataFrame(np.transpose(np.array([timestamps, sensors, values, activities])), \n",
    "                        columns = ['Timestamps', 'Sensors', 'Values', 'Activities'])\n",
    "    "
   ]
  },
  {
   "cell_type": "code",
   "execution_count": 6,
   "id": "c96df1b8",
   "metadata": {},
   "outputs": [],
   "source": [
    "aruba_dataset = load_dataset(\"./datasets/aruba/data\")"
   ]
  },
  {
   "cell_type": "code",
   "execution_count": 26,
   "id": "97f1cd12",
   "metadata": {},
   "outputs": [],
   "source": [
    "copy_aruba = aruba_dataset.copy();"
   ]
  },
  {
   "cell_type": "code",
   "execution_count": 27,
   "id": "395b7fd7",
   "metadata": {},
   "outputs": [],
   "source": [
    "def add_transition_labels(aruba_set):\n",
    "    new_activity = ''\n",
    "    previous_activity = ''\n",
    "    \n",
    "    for i, entry in enumerate(aruba_set['Activities']): \n",
    "        if entry == '':\n",
    "            if new_activity != '':\n",
    "                aruba_set.at[i, 'Activities'] = new_activity\n",
    "            else:\n",
    "                for next_entry in aruba_set['Activities'][i:]:\n",
    "                    if next_entry != '':\n",
    "                        new_activity = 'Transition_' + previous_activity + '_' + next_entry\n",
    "                        aruba_set.at[i, 'Activities'] = new_activity\n",
    "                        break            \n",
    "        else:\n",
    "            previous_activity = entry\n",
    "            new_activity = ''\n",
    "    return aruba_set"
   ]
  },
  {
   "cell_type": "code",
   "execution_count": 28,
   "id": "bb9ae488",
   "metadata": {},
   "outputs": [],
   "source": [
    "complete_aruba = add_transition_labels(copy_aruba)"
   ]
  },
  {
   "cell_type": "code",
   "execution_count": 30,
   "id": "07068611",
   "metadata": {},
   "outputs": [
    {
     "data": {
      "text/html": [
       "<div>\n",
       "<style scoped>\n",
       "    .dataframe tbody tr th:only-of-type {\n",
       "        vertical-align: middle;\n",
       "    }\n",
       "\n",
       "    .dataframe tbody tr th {\n",
       "        vertical-align: top;\n",
       "    }\n",
       "\n",
       "    .dataframe thead th {\n",
       "        text-align: right;\n",
       "    }\n",
       "</style>\n",
       "<table border=\"1\" class=\"dataframe\">\n",
       "  <thead>\n",
       "    <tr style=\"text-align: right;\">\n",
       "      <th></th>\n",
       "      <th>Timestamps</th>\n",
       "      <th>Sensors</th>\n",
       "      <th>Values</th>\n",
       "      <th>Activities</th>\n",
       "    </tr>\n",
       "  </thead>\n",
       "  <tbody>\n",
       "    <tr>\n",
       "      <th>0</th>\n",
       "      <td>2010-11-04 00:03:50.209589</td>\n",
       "      <td>M003</td>\n",
       "      <td>ON</td>\n",
       "      <td>Sleeping</td>\n",
       "    </tr>\n",
       "    <tr>\n",
       "      <th>1</th>\n",
       "      <td>2010-11-04 00:03:57.399391</td>\n",
       "      <td>M003</td>\n",
       "      <td>OFF</td>\n",
       "      <td>Sleeping</td>\n",
       "    </tr>\n",
       "    <tr>\n",
       "      <th>2</th>\n",
       "      <td>2010-11-04 00:15:08.984841</td>\n",
       "      <td>T002</td>\n",
       "      <td>21.5</td>\n",
       "      <td>Sleeping</td>\n",
       "    </tr>\n",
       "    <tr>\n",
       "      <th>3</th>\n",
       "      <td>2010-11-04 00:30:19.185547</td>\n",
       "      <td>T003</td>\n",
       "      <td>21.0</td>\n",
       "      <td>Sleeping</td>\n",
       "    </tr>\n",
       "    <tr>\n",
       "      <th>4</th>\n",
       "      <td>2010-11-04 00:30:19.385336</td>\n",
       "      <td>T004</td>\n",
       "      <td>21.0</td>\n",
       "      <td>Sleeping</td>\n",
       "    </tr>\n",
       "  </tbody>\n",
       "</table>\n",
       "</div>"
      ],
      "text/plain": [
       "                  Timestamps Sensors Values Activities\n",
       "0 2010-11-04 00:03:50.209589    M003     ON   Sleeping\n",
       "1 2010-11-04 00:03:57.399391    M003    OFF   Sleeping\n",
       "2 2010-11-04 00:15:08.984841    T002   21.5   Sleeping\n",
       "3 2010-11-04 00:30:19.185547    T003   21.0   Sleeping\n",
       "4 2010-11-04 00:30:19.385336    T004   21.0   Sleeping"
      ]
     },
     "execution_count": 30,
     "metadata": {},
     "output_type": "execute_result"
    }
   ],
   "source": [
    "complete_aruba.head()"
   ]
  },
  {
   "cell_type": "markdown",
   "id": "dfc19496",
   "metadata": {},
   "source": [
    "# Pre-processing"
   ]
  },
  {
   "cell_type": "code",
   "execution_count": 34,
   "id": "5fc13b07",
   "metadata": {},
   "outputs": [],
   "source": [
    "def process_time_data(dataset):\n",
    "    weekday = []\n",
    "    seconds = []\n",
    "    daytime = []\n",
    "    \n",
    "    for instance in dataset[\"Timestamps\"]:\n",
    "        weekday.append(instance.day_of_week)\n",
    "        seconds.append(instance.hour * 3600 + instance.minute * 60 + instance.second)\n",
    "        if instance.hour >= 0 and instance.hour <= 6:\n",
    "            daytime.append('Morning_Night')\n",
    "        elif instance.hour >= 6 and instance.hour <= 12:\n",
    "            daytime.append('Morning_Day')\n",
    "        elif instance.hour >= 12 and instance.hour <= 18:\n",
    "            daytime.append('Afternoon')\n",
    "        else: \n",
    "            daytime.append('Evening')\n",
    "        \n",
    "    dataset[\"Weekday\"] = weekday\n",
    "    dataset[\"Seconds\"] = seconds\n",
    "    dataset[\"Daytime\"] = daytime\n",
    "    return dataset\n"
   ]
  },
  {
   "cell_type": "code",
   "execution_count": 32,
   "id": "35286722",
   "metadata": {},
   "outputs": [],
   "source": [
    "copy_complete_aruba = complete_aruba.copy();"
   ]
  },
  {
   "cell_type": "code",
   "execution_count": 35,
   "id": "eff9ee86",
   "metadata": {},
   "outputs": [],
   "source": [
    "timed_aruba = process_time_data(copy_complete_aruba)"
   ]
  },
  {
   "cell_type": "code",
   "execution_count": 36,
   "id": "bd0ebf37",
   "metadata": {},
   "outputs": [
    {
     "data": {
      "text/html": [
       "<div>\n",
       "<style scoped>\n",
       "    .dataframe tbody tr th:only-of-type {\n",
       "        vertical-align: middle;\n",
       "    }\n",
       "\n",
       "    .dataframe tbody tr th {\n",
       "        vertical-align: top;\n",
       "    }\n",
       "\n",
       "    .dataframe thead th {\n",
       "        text-align: right;\n",
       "    }\n",
       "</style>\n",
       "<table border=\"1\" class=\"dataframe\">\n",
       "  <thead>\n",
       "    <tr style=\"text-align: right;\">\n",
       "      <th></th>\n",
       "      <th>Timestamps</th>\n",
       "      <th>Sensors</th>\n",
       "      <th>Values</th>\n",
       "      <th>Activities</th>\n",
       "      <th>Weekday</th>\n",
       "      <th>Seconds</th>\n",
       "      <th>Daytime</th>\n",
       "    </tr>\n",
       "  </thead>\n",
       "  <tbody>\n",
       "    <tr>\n",
       "      <th>0</th>\n",
       "      <td>2010-11-04 00:03:50.209589</td>\n",
       "      <td>M003</td>\n",
       "      <td>ON</td>\n",
       "      <td>Sleeping</td>\n",
       "      <td>3</td>\n",
       "      <td>230</td>\n",
       "      <td>Morning_Night</td>\n",
       "    </tr>\n",
       "    <tr>\n",
       "      <th>1</th>\n",
       "      <td>2010-11-04 00:03:57.399391</td>\n",
       "      <td>M003</td>\n",
       "      <td>OFF</td>\n",
       "      <td>Sleeping</td>\n",
       "      <td>3</td>\n",
       "      <td>237</td>\n",
       "      <td>Morning_Night</td>\n",
       "    </tr>\n",
       "    <tr>\n",
       "      <th>2</th>\n",
       "      <td>2010-11-04 00:15:08.984841</td>\n",
       "      <td>T002</td>\n",
       "      <td>21.5</td>\n",
       "      <td>Sleeping</td>\n",
       "      <td>3</td>\n",
       "      <td>908</td>\n",
       "      <td>Morning_Night</td>\n",
       "    </tr>\n",
       "    <tr>\n",
       "      <th>3</th>\n",
       "      <td>2010-11-04 00:30:19.185547</td>\n",
       "      <td>T003</td>\n",
       "      <td>21.0</td>\n",
       "      <td>Sleeping</td>\n",
       "      <td>3</td>\n",
       "      <td>1819</td>\n",
       "      <td>Morning_Night</td>\n",
       "    </tr>\n",
       "    <tr>\n",
       "      <th>4</th>\n",
       "      <td>2010-11-04 00:30:19.385336</td>\n",
       "      <td>T004</td>\n",
       "      <td>21.0</td>\n",
       "      <td>Sleeping</td>\n",
       "      <td>3</td>\n",
       "      <td>1819</td>\n",
       "      <td>Morning_Night</td>\n",
       "    </tr>\n",
       "  </tbody>\n",
       "</table>\n",
       "</div>"
      ],
      "text/plain": [
       "                  Timestamps Sensors Values Activities  Weekday  Seconds  \\\n",
       "0 2010-11-04 00:03:50.209589    M003     ON   Sleeping        3      230   \n",
       "1 2010-11-04 00:03:57.399391    M003    OFF   Sleeping        3      237   \n",
       "2 2010-11-04 00:15:08.984841    T002   21.5   Sleeping        3      908   \n",
       "3 2010-11-04 00:30:19.185547    T003   21.0   Sleeping        3     1819   \n",
       "4 2010-11-04 00:30:19.385336    T004   21.0   Sleeping        3     1819   \n",
       "\n",
       "         Daytime  \n",
       "0  Morning_Night  \n",
       "1  Morning_Night  \n",
       "2  Morning_Night  \n",
       "3  Morning_Night  \n",
       "4  Morning_Night  "
      ]
     },
     "execution_count": 36,
     "metadata": {},
     "output_type": "execute_result"
    }
   ],
   "source": [
    "timed_aruba.head(50)\n"
   ]
  },
  {
   "cell_type": "code",
   "execution_count": null,
   "id": "385698cc",
   "metadata": {},
   "outputs": [],
   "source": [
    "complete_aruba.describe()"
   ]
  },
  {
   "cell_type": "code",
   "execution_count": null,
   "id": "777f3228",
   "metadata": {},
   "outputs": [],
   "source": [
    "sns.catplot(x = 'Activities', y = 'Timestamps', data = complete_aruba)"
   ]
  }
 ],
 "metadata": {
  "kernelspec": {
   "display_name": "Python 3 (ipykernel)",
   "language": "python",
   "name": "python3"
  },
  "language_info": {
   "codemirror_mode": {
    "name": "ipython",
    "version": 3
   },
   "file_extension": ".py",
   "mimetype": "text/x-python",
   "name": "python",
   "nbconvert_exporter": "python",
   "pygments_lexer": "ipython3",
   "version": "3.9.7"
  }
 },
 "nbformat": 4,
 "nbformat_minor": 5
}
